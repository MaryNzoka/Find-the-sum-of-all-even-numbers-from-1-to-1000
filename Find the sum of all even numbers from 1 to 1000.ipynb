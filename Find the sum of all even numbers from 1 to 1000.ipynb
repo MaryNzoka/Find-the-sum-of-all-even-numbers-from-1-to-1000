{
 "cells": [
  {
   "cell_type": "code",
   "execution_count": 1,
   "id": "1c479fc5",
   "metadata": {},
   "outputs": [
    {
     "name": "stdout",
     "output_type": "stream",
     "text": [
      "The sum of all even numbers from 1 to 1000 is: 250500\n"
     ]
    }
   ],
   "source": [
    "# Initialize the sum variable to zero\n",
    "sum = 0\n",
    "\n",
    "# Loop through all even numbers from 2 to 1000\n",
    "for i in range(2, 1001, 2):\n",
    "    # Add the current even number to the sum variable\n",
    "    sum += i\n",
    "\n",
    "# Print the sum of all even numbers\n",
    "print(\"The sum of all even numbers from 1 to 1000 is:\", sum)"
   ]
  },
  {
   "cell_type": "code",
   "execution_count": 3,
   "id": "84bbde09",
   "metadata": {},
   "outputs": [
    {
     "name": "stdout",
     "output_type": "stream",
     "text": [
      "The sum of all even numbers from 1 to 10000 is: 25005000\n"
     ]
    }
   ],
   "source": [
    "# Initialize the sum variable to zero\n",
    "sum = 0\n",
    "\n",
    "# Loop through all even numbers from 2 to 1000\n",
    "for i in range(2, 10001, 2):\n",
    "    # Add the current even number to the sum variable\n",
    "    sum += i\n",
    "\n",
    "# Print the sum of all even numbers\n",
    "print(\"The sum of all even numbers from 1 to 10000 is:\", sum)"
   ]
  },
  {
   "cell_type": "code",
   "execution_count": null,
   "id": "e5f4a521",
   "metadata": {},
   "outputs": [],
   "source": []
  }
 ],
 "metadata": {
  "kernelspec": {
   "display_name": "Python 3 (ipykernel)",
   "language": "python",
   "name": "python3"
  },
  "language_info": {
   "codemirror_mode": {
    "name": "ipython",
    "version": 3
   },
   "file_extension": ".py",
   "mimetype": "text/x-python",
   "name": "python",
   "nbconvert_exporter": "python",
   "pygments_lexer": "ipython3",
   "version": "3.11.2"
  }
 },
 "nbformat": 4,
 "nbformat_minor": 5
}
